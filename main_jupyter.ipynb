{
 "cells": [
  {
   "cell_type": "code",
   "execution_count": 1,
   "id": "a37be745",
   "metadata": {},
   "outputs": [],
   "source": [
    "import random # I did it in first instance to create the full_name column\n",
    "import csv\n",
    "import pandas as pd"
   ]
  },
  {
   "cell_type": "code",
   "execution_count": 2,
   "id": "f0ba7ac6",
   "metadata": {},
   "outputs": [
    {
     "name": "stdout",
     "output_type": "stream",
     "text": [
      "Average Age: 39\n",
      "Average BMI: 30.66\n",
      "Average Number of Children: 1\n",
      "Average Insurance Charge: 13270.42\n"
     ]
    }
   ],
   "source": [
    "# Initialization of the empty dictionary for each column\n",
    "data_dict = {\n",
    "    \"ages\": [],\n",
    "    \"sexes\": [],\n",
    "    \"bmis\": [],\n",
    "    \"childrens\": [],\n",
    "    \"smokers\": [],\n",
    "    \"regions\": [],\n",
    "    \"charges\": []\n",
    "}\n",
    "\n",
    "# Open the CSV file using DictReader\n",
    "with open(\"insurance.csv\", \"r\") as insurance_file:\n",
    "    insurance_reader = csv.DictReader(insurance_file)\n",
    "    \n",
    "    for row in insurance_reader:\n",
    "        data_dict[\"ages\"].append(int(row[\"age\"]))\n",
    "        data_dict[\"sexes\"].append(row[\"sex\"])\n",
    "        data_dict[\"bmis\"].append(float(row[\"bmi\"]))\n",
    "        data_dict[\"childrens\"].append(int(row[\"children\"]))\n",
    "        data_dict[\"smokers\"].append(row[\"smoker\"])\n",
    "        data_dict[\"regions\"].append(row[\"region\"])\n",
    "        data_dict[\"charges\"].append(float(row[\"charges\"]))\n",
    "\n",
    "# Function for calculating the length of any list\n",
    "def len_of_list(lst):\n",
    "    return len(lst)\n",
    "\n",
    "# Function for calculating the average value of a list\n",
    "def avg_value(lst):\n",
    "    return sum(lst) / len(lst)\n",
    "\n",
    "# Printing the average values for each numerical column\n",
    "avg_ages = round(avg_value(data_dict[\"ages\"]))\n",
    "print(\"Average Age:\", avg_ages)\n",
    "\n",
    "avg_bmis = round(avg_value(data_dict[\"bmis\"]), 2)\n",
    "print(\"Average BMI:\", avg_bmis)\n",
    "\n",
    "avg_children = round(avg_value(data_dict[\"childrens\"]))\n",
    "print(\"Average Number of Children:\", avg_children)\n",
    "\n",
    "avg_charges = round(avg_value(data_dict[\"charges\"]), 2)\n",
    "print(\"Average Insurance Charge:\", avg_charges)\n"
   ]
  },
  {
   "cell_type": "code",
   "execution_count": 3,
   "id": "b81bafd1",
   "metadata": {},
   "outputs": [
    {
     "name": "stdout",
     "output_type": "stream",
     "text": [
      "Total Smokers: 274\n",
      "Total Non-Smokers: 1064\n",
      "Total Males: 676\n",
      "Total Females: 662\n"
     ]
    }
   ],
   "source": [
    "# Function to count the occurrences of values in a list\n",
    "def count_occurrences(lst, value):\n",
    "    return lst.count(value)\n",
    "\n",
    "# Counting smokers and non-smokers\n",
    "total_smokers = count_occurrences(data_dict[\"smokers\"], \"yes\")\n",
    "total_non_smokers = count_occurrences(data_dict[\"smokers\"], \"no\")\n",
    "print(\"Total Smokers:\", total_smokers)\n",
    "print(\"Total Non-Smokers:\", total_non_smokers)\n",
    "\n",
    "# Counting males and females\n",
    "total_males = count_occurrences(data_dict[\"sexes\"], \"male\")\n",
    "total_females = count_occurrences(data_dict[\"sexes\"], \"female\")\n",
    "print(\"Total Males:\", total_males)\n",
    "print(\"Total Females:\", total_females)"
   ]
  },
  {
   "cell_type": "code",
   "execution_count": 4,
   "id": "131a32b2",
   "metadata": {},
   "outputs": [
    {
     "name": "stdout",
     "output_type": "stream",
     "text": [
      "Region Counts: {'southwest': 325, 'southeast': 364, 'northwest': 325, 'northeast': 324}\n",
      "Smoker Counts: {'yes': 274, 'no': 1064}\n",
      "Sex Counts: {'female': 662, 'male': 676}\n"
     ]
    }
   ],
   "source": [
    "# Function to create a dictionary with the count of each unique value\n",
    "def create_value_count_dict(lst):\n",
    "    value_count_dict = {}\n",
    "    for item in lst:\n",
    "        if item in value_count_dict:\n",
    "            value_count_dict[item] += 1\n",
    "        else:\n",
    "            value_count_dict[item] = 1\n",
    "    return value_count_dict\n",
    "\n",
    "# Creating dictionaries for regions, smokers, and sexes\n",
    "region_counts = create_value_count_dict(data_dict[\"regions\"])\n",
    "print(\"Region Counts:\", region_counts)\n",
    "\n",
    "smoker_counts = create_value_count_dict(data_dict[\"smokers\"])\n",
    "print(\"Smoker Counts:\", smoker_counts)\n",
    "\n",
    "sex_counts = create_value_count_dict(data_dict[\"sexes\"])\n",
    "print(\"Sex Counts:\", sex_counts)"
   ]
  },
  {
   "cell_type": "code",
   "execution_count": 6,
   "id": "4772aaf7",
   "metadata": {},
   "outputs": [
    {
     "name": "stdout",
     "output_type": "stream",
     "text": [
      "Average Charge Difference (Smokers - Non-Smokers): 0.0\n"
     ]
    }
   ],
   "source": [
    "# Function to calculate the difference in average charges between two groups\n",
    "def calculate_charge_difference(group1, group2, charges):\n",
    "    total_group1_charges = sum(charges[i] for i, val in enumerate(group1) if val)\n",
    "    total_group2_charges = sum(charges[i] for i, val in enumerate(group2) if val)\n",
    "    avg_group1_charge = total_group1_charges / len(group1)\n",
    "    avg_group2_charge = total_group2_charges / len(group2)\n",
    "    return round(avg_group1_charge - avg_group2_charge, 2)\n",
    "\n",
    "# Calculating the difference in average charges between smokers and non-smokers\n",
    "charge_difference = calculate_charge_difference(data_dict[\"smokers\"], [\"no\"] * len(data_dict[\"smokers\"]), data_dict[\"charges\"])\n",
    "print(\"Average Charge Difference (Smokers - Non-Smokers):\", charge_difference)"
   ]
  },
  {
   "cell_type": "code",
   "execution_count": 7,
   "id": "f674a483",
   "metadata": {},
   "outputs": [
    {
     "name": "stdout",
     "output_type": "stream",
     "text": [
      "Average Age of Individuals with One Child: 39\n"
     ]
    }
   ],
   "source": [
    "# Function to calculate the average age of individuals with a specified number of children\n",
    "def average_age_with_children(children_count, ages, childrens):\n",
    "    relevant_ages = [ages[i] for i, count in enumerate(childrens) if count == children_count]\n",
    "    return round(avg_value(relevant_ages))\n",
    "\n",
    "# Calculating the average age of individuals with one child\n",
    "average_age_one_child = average_age_with_children(1, data_dict[\"ages\"], data_dict[\"childrens\"])\n",
    "print(\"Average Age of Individuals with One Child:\", average_age_one_child)"
   ]
  },
  {
   "cell_type": "code",
   "execution_count": 8,
   "id": "cd42c91b",
   "metadata": {},
   "outputs": [
    {
     "name": "stdout",
     "output_type": "stream",
     "text": [
      "Up here everything is with pandas\n"
     ]
    }
   ],
   "source": [
    "# Test on pandas\n",
    "print(\"From here everything is with pandas, and the code is UPDATED\")"
   ]
  },
  {
   "cell_type": "code",
   "execution_count": 12,
   "id": "a62671ef",
   "metadata": {},
   "outputs": [
    {
     "name": "stdout",
     "output_type": "stream",
     "text": [
      "Here is our first DataFrame:\n",
      "   age     sex     bmi  children smoker     region      charges\n",
      "0   19  female  27.900         0    yes  southwest  16884.92400\n",
      "1   18    male  33.770         1     no  southeast   1725.55230\n",
      "2   28    male  33.000         3     no  southeast   4449.46200\n",
      "3   33    male  22.705         0     no  northwest  21984.47061\n",
      "This is the average Age, calculed with Pandas: 39\n"
     ]
    }
   ],
   "source": [
    "df1 = pd.read_csv('insurance.csv')\n",
    "# df1 = pd.DataFrame(data_dict)\n",
    "print(\"Here is our first DataFrame:\")\n",
    "print(df1.head(4))\n",
    "\n",
    "def average_fn(df_pd, column_name):\n",
    "    return round(df_pd[column_name].mean())\n",
    "\n",
    "avg_age_pd = average_fn(df1, \"age\")\n",
    "print(\"This is the average Age, calculed with Pandas: \" + str(avg_age_pd))"
   ]
  },
  {
   "cell_type": "code",
   "execution_count": 13,
   "id": "df3b3c1e",
   "metadata": {},
   "outputs": [
    {
     "name": "stdout",
     "output_type": "stream",
     "text": [
      "We are creating a DataFrame with a new column that is the name we added\n",
      "   age     sex     bmi  children smoker     region      charges  \\\n",
      "0   19  female  27.900         0    yes  southwest  16884.92400   \n",
      "1   18    male  33.770         1     no  southeast   1725.55230   \n",
      "2   28    male  33.000         3     no  southeast   4449.46200   \n",
      "3   33    male  22.705         0     no  northwest  21984.47061   \n",
      "\n",
      "        Full Name  \n",
      "0     Raúl Suárez  \n",
      "1   Teresa Torres  \n",
      "2  Raúl Hernández  \n",
      "3     Pablo Núñez  \n"
     ]
    }
   ],
   "source": [
    "# Lets say we have a list name, with first and last name, not separated if it is male or female.\n",
    "# The goal is to create a list combination long enough to feed my current data DataFrame so:\n",
    "first_names = [\n",
    "    \"Adriana\", \"Alejandro\", \"Alicia\", \"Alonso\", \"Andrés\", \"Ángel\", \"Antonio\", \"Beatriz\", \n",
    "    \"Carlos\", \"Carmen\", \"Catalina\", \"Cecilia\", \"Cristina\", \"Daniel\", \"David\", \"Diego\", \n",
    "    \"Eduardo\", \"Elena\", \"Emilio\", \"Ernesto\", \"Fernando\", \"Francisco\", \"Gabriel\", \"Gloria\", \n",
    "    \"Guillermo\", \"Héctor\", \"Ignacio\", \"Isabel\", \"Javier\", \"Jesús\", \"Joaquín\", \"Jorge\", \n",
    "    \"José\", \"Juan\", \"Julia\", \"Laura\", \"Luis\", \"Manuel\", \"Marcos\", \"María\", \"Marta\", \n",
    "    \"Martín\", \"Miguel\", \"Natalia\", \"Nicolás\", \"Óscar\", \"Pablo\", \"Patricia\", \"Pedro\", \n",
    "    \"Raúl\", \"Ricardo\", \"Rosa\", \"Salvador\", \"Santiago\", \"Silvia\", \"Teresa\", \"Tomás\", \n",
    "    \"Victoria\", \"Ximena\", \"Yolanda\", \"Zacarías\"\n",
    "]\n",
    "\n",
    "last_names = [\n",
    "    \"Aguirre\", \"Alonso\", \"Álvarez\", \"Arias\", \"Benítez\", \"Blanco\", \"Cabrera\", \"Calvo\", \n",
    "    \"Campos\", \"Cano\", \"Castillo\", \"Castro\", \"Cortés\", \"Delgado\", \"Díaz\", \"Domínguez\", \n",
    "    \"Durán\", \"Escobar\", \"Fernández\", \"García\", \"Giménez\", \"Gómez\", \"González\", \"Guerrero\", \n",
    "    \"Gutiérrez\", \"Hernández\", \"Iglesias\", \"Jiménez\", \"López\", \"Martínez\", \"Medina\", \"Mendoza\", \n",
    "    \"Molina\", \"Moreno\", \"Muñoz\", \"Navarro\", \"Núñez\", \"Ortega\", \"Ortiz\", \"Pérez\", \"Ramírez\", \n",
    "    \"Ramos\", \"Reyes\", \"Rodríguez\", \"Romero\", \"Ruiz\", \"Sánchez\", \"Santos\", \"Serrano\", \"Suárez\", \n",
    "    \"Torres\", \"Vargas\", \"Vázquez\", \"Vega\", \"Velázquez\", \"Vicente\", \"Zamora\", \"Zapata\"\n",
    "]\n",
    "\n",
    "# it is enough combinations?\n",
    "num_combinations = len(df1.age)\n",
    "\n",
    "assert len(first_names) * len(last_names) >= num_combinations, \"There is not enough unique combinations, feed more!\"\n",
    "\n",
    "full_name_list = set()\n",
    "while len(full_name_list) < num_combinations:\n",
    "    first_name = random.choice(first_names)\n",
    "    last_name = random.choice(last_names)\n",
    "    full_name_list.add(f\"{first_name} {last_name}\")\n",
    "\n",
    "full_name_list = list(full_name_list)\n",
    "\n",
    "get_first_name = lambda str: str.split(' ')[0]\n",
    "get_last_name = lambda str: str.split(' ')[-1]\n",
    "\n",
    "# Once we created the full_name_list, we add it to our DataFrame\n",
    "df1[\"Full Name\"] = full_name_list\n",
    "# df1[\"First Name\"] = df['Full Name'].apply(get_first_name) # if we want to add the first name in a new column\n",
    "# df1[\"Last Name\"] = df['Last Name'].apply(get_last_name) # if we want to add the last name in a new column\n",
    "\n",
    "print(\"We are updating our first DataFrame with a new column that is the name we added\")\n",
    "print(df1.head(4))"
   ]
  },
  {
   "cell_type": "code",
   "execution_count": 16,
   "id": "1f538394",
   "metadata": {},
   "outputs": [
    {
     "name": "stdout",
     "output_type": "stream",
     "text": [
      "This is the table with the average age of the smokers or non smoker group\n",
      "smoker\n",
      "no     39.0\n",
      "yes    39.0\n",
      "Name: age, dtype: float64\n"
     ]
    }
   ],
   "source": [
    "# if we want to find how many, or average value of smokers for example, and know the average age of people who smokes or not:\n",
    "smokers_group_age = df1.groupby(\"smoker\").age.mean().round()\n",
    "print(\"This is the table with the average age of the smokers or non smoker group\")\n",
    "print(smokers_group_age)"
   ]
  },
  {
   "cell_type": "code",
   "execution_count": 17,
   "id": "81837898",
   "metadata": {},
   "outputs": [
    {
     "name": "stdout",
     "output_type": "stream",
     "text": [
      "smoker\n",
      "no      8434.268298\n",
      "yes    32050.231832\n",
      "Name: charges, dtype: float64\n"
     ]
    }
   ],
   "source": [
    "# average price of the insurance from smokers an no smokers\n",
    "smokers_group_charge = df1.groupby(\"smoker\").charges.mean()\n",
    "print(smokers_group_charge)"
   ]
  },
  {
   "cell_type": "code",
   "execution_count": 30,
   "id": "4c0f0ab7",
   "metadata": {},
   "outputs": [
    {
     "name": "stdout",
     "output_type": "stream",
     "text": [
      "   smoker  children       charges\n",
      "0      no         0   7611.793335\n",
      "1      no         1   8303.109350\n",
      "2      no         2   9493.093674\n",
      "3      no         3   9614.519391\n",
      "4      no         4  12121.344408\n",
      "5      no         5   8183.845556\n",
      "6     yes         0  31341.363954\n",
      "7     yes         1  31822.654334\n",
      "8     yes         2  33844.235755\n",
      "9     yes         3  32724.915268\n",
      "10    yes         4  26532.276933\n",
      "11    yes         5  19023.260000\n"
     ]
    }
   ],
   "source": [
    "# average charge of insurance for smokers and the amount of kids\n",
    "smokers_group_kids_charge = df1.groupby([\"smoker\", \"children\"]).charges.mean().reset_index()\n",
    "print(smokers_group_kids_charge)"
   ]
  },
  {
   "cell_type": "code",
   "execution_count": 39,
   "id": "9c4db1ab",
   "metadata": {},
   "outputs": [
    {
     "name": "stdout",
     "output_type": "stream",
     "text": [
      "            bmi          charges          \n",
      "smoker       no    yes        no       yes\n",
      "children                                  \n",
      "0         30.55  30.54   7611.79  31341.36\n",
      "1         30.56  30.87   8303.11  31822.65\n",
      "2         30.88  31.30   9493.09  33844.24\n",
      "3         30.74  30.52   9614.52  32724.92\n",
      "4         31.68  29.31  12121.34  26532.28\n",
      "5         30.27  18.30   8183.85  19023.26\n"
     ]
    }
   ],
   "source": [
    "# because we noted that the insured people that smoke and have 5 kids is less than the avg charge we want to know the avg BMI\n",
    "smokers_children_group_bmi_charges = df1.groupby([\"smoker\", \"children\"])[['bmi', 'charges']].mean().round(2).reset_index()\n",
    "smokers_children_group_bmi_charges_pivoted = smokers_children_group_bmi_charges.pivot(\n",
    "    columns=\"smoker\",\n",
    "    index=\"children\",\n",
    "    values=[\"bmi\", \"charges\"])\n",
    "print(smokers_children_group_bmi_charges_pivoted)"
   ]
  },
  {
   "cell_type": "code",
   "execution_count": 48,
   "id": "d127c734",
   "metadata": {},
   "outputs": [
    {
     "name": "stdout",
     "output_type": "stream",
     "text": [
      "                  age          bmi          charges          \n",
      "smoker             no   yes     no    yes        no       yes\n",
      "sex    children                                              \n",
      "female 0         39.0  37.0  30.38  30.27   7688.32  30685.06\n",
      "       1         39.0  40.0  30.21  29.22   8758.56  30264.25\n",
      "       2         41.0  39.0  30.97  29.24   9921.78  31663.83\n",
      "       3         43.0  40.0  30.71  29.20  10128.72  30681.60\n",
      "       4         42.0   NaN  31.94    NaN  13937.67       NaN\n",
      "       5         37.0  39.0  32.38  18.30   8544.11  19023.26\n",
      "male   0         39.0  36.0  30.73  30.78   7530.81  31902.40\n",
      "       1         39.0  39.0  30.93  32.02   7837.15  32904.88\n",
      "       2         38.0  40.0  30.78  32.68   9020.57  35297.84\n",
      "       3         41.0  41.0  30.77  31.26   9025.53  33869.17\n",
      "       4         38.0  30.0  31.41  29.31  10305.01  26532.28\n",
      "       5         34.0   NaN  28.79    NaN   7931.66       NaN\n"
     ]
    }
   ],
   "source": [
    "# now we want to do a more complex avg table\n",
    "general_avg = df1.groupby([\"sex\", \"smoker\", \"children\"])[['age', 'bmi', 'charges']].mean().reset_index()\n",
    "general_avg[\"age\"] = general_avg[\"age\"].round()\n",
    "general_avg[\"bmi\"] = general_avg[\"bmi\"].round(2)\n",
    "general_avg[\"charges\"] = general_avg[\"charges\"].round(2)\n",
    "\n",
    "general_avg_pivoted = general_avg.pivot(\n",
    "    columns=\"smoker\",\n",
    "    index=[\"sex\", \"children\"],\n",
    "    values=[\"age\", \"bmi\", \"charges\"])\n",
    "\n",
    "print(general_avg_pivoted)\n",
    "# print(general_avg)"
   ]
  },
  {
   "cell_type": "code",
   "execution_count": 49,
   "id": "3fa8b558",
   "metadata": {},
   "outputs": [
    {
     "name": "stdout",
     "output_type": "stream",
     "text": [
      "children smoker             0             1             2             3  \\\n",
      "0            no   7611.793335   8303.109350   9493.093674   9614.519391   \n",
      "1           yes  31341.363954  31822.654334  33844.235755  32724.915268   \n",
      "\n",
      "children             4             5  \n",
      "0         12121.344408   8183.845556  \n",
      "1         26532.276933  19023.260000  \n"
     ]
    }
   ],
   "source": [
    "# pivoted table, to create a easy view of the table with smokers / children / charges\n",
    "\n",
    "pivoted_general = smokers_group_kids_charge.pivot(\n",
    "    columns=\"children\",\n",
    "    index=\"smoker\",\n",
    "    values=\"charges\").reset_index()\n",
    "\n",
    "print(pivoted_general)"
   ]
  },
  {
   "cell_type": "code",
   "execution_count": null,
   "id": "522cf188",
   "metadata": {},
   "outputs": [],
   "source": []
  }
 ],
 "metadata": {
  "kernelspec": {
   "display_name": "Python 3 (ipykernel)",
   "language": "python",
   "name": "python3"
  },
  "language_info": {
   "codemirror_mode": {
    "name": "ipython",
    "version": 3
   },
   "file_extension": ".py",
   "mimetype": "text/x-python",
   "name": "python",
   "nbconvert_exporter": "python",
   "pygments_lexer": "ipython3",
   "version": "3.11.7"
  }
 },
 "nbformat": 4,
 "nbformat_minor": 5
}
